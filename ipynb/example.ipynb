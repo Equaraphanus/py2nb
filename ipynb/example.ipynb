{
 "cells": [
  {
   "cell_type": "markdown",
   "metadata": {},
   "source": [
    "# Example\n",
    "This is an example file to show the capabilities of the format.\n"
   ]
  },
  {
   "cell_type": "markdown",
   "metadata": {},
   "source": [
    "## The basics\n",
    "This section shows the basics of the format.\n"
   ]
  },
  {
   "cell_type": "markdown",
   "metadata": {},
   "source": [
    "### Code cells\n",
    "You can write regular python source in here:\n"
   ]
  },
  {
   "cell_type": "code",
   "execution_count": 1,
   "metadata": {},
   "outputs": [
    {
     "name": "stdout",
     "output_type": "stream",
     "text": [
      "Hello, World!\n"
     ]
    }
   ],
   "source": [
    "print('Hello, World!')\n"
   ]
  },
  {
   "cell_type": "markdown",
   "metadata": {},
   "source": [
    "As you can see, the code gets converted into notebook code cells.\n",
    "The output of the cell is also included if you run the converter with the `-e` flag.\n"
   ]
  },
  {
   "cell_type": "markdown",
   "metadata": {},
   "source": [
    "And you have probably already noticed that you can insert Markdown cells.\n"
   ]
  },
  {
   "cell_type": "markdown",
   "metadata": {},
   "source": [
    "### Markdown cells\n",
    "To create a Markdown cell, you need to write a special comment starting with `#: `.\n",
    "\n",
    "    #: ### This will be a Markdown header\n",
    "    print('Hello from a code cell!')\n"
   ]
  },
  {
   "cell_type": "markdown",
   "metadata": {},
   "source": [
    "### Regular comments\n",
    "You can still write regular comments as well, just don't put the `:` right after the `#` sign:\n"
   ]
  },
  {
   "cell_type": "code",
   "execution_count": 1,
   "metadata": {},
   "outputs": [],
   "source": [
    "# This will be a regular comment inside a code cell!\n"
   ]
  },
  {
   "cell_type": "markdown",
   "metadata": {},
   "source": [
    "### Big code cells\n",
    "Multiple lines of code in a row are merged into one code cell, even including empty lines!\n"
   ]
  },
  {
   "cell_type": "code",
   "execution_count": 1,
   "metadata": {},
   "outputs": [
    {
     "name": "stdout",
     "output_type": "stream",
     "text": [
      "This is the first line\n",
      "Hello from the second line!\n",
      "This is the line #4 from the same code cell\n"
     ]
    }
   ],
   "source": [
    "print('This is the first line')\n",
    "print('Hello from the second line!')\n",
    "\n",
    "print('This is the line #4 from the same code cell')\n"
   ]
  },
  {
   "cell_type": "markdown",
   "metadata": {},
   "source": [
    "### Several code cells in a row\n",
    "If you need to break a big chunk of code up into multiple cells,\n",
    "you can do so by putting a special \"separator\" comment `#=`:\n"
   ]
  },
  {
   "cell_type": "code",
   "execution_count": 1,
   "metadata": {},
   "outputs": [],
   "source": [
    "# This is a cell\n"
   ]
  },
  {
   "cell_type": "code",
   "execution_count": 1,
   "metadata": {},
   "outputs": [],
   "source": [
    "# And this is another one\n"
   ]
  },
  {
   "cell_type": "code",
   "execution_count": 1,
   "metadata": {},
   "outputs": [],
   "source": [
    "# And this is the third one\n"
   ]
  },
  {
   "cell_type": "markdown",
   "metadata": {},
   "source": [
    "## The Markdown\n",
    "You can do many things with markdown, but this section does not aim to show every existing or even supported feature.\n",
    "Instead, this section describes some important things to note when writing markdown comments in this format.\n"
   ]
  },
  {
   "cell_type": "markdown",
   "metadata": {},
   "source": [
    "### Headers\n",
    "This one may seem obvious, but you should put a space after the sequence of `#`s, otherwise the header may be interpreted as something else.\n",
    "\n",
    "    #: #### Right\n",
    "    #: ####Wrong\n"
   ]
  },
  {
   "cell_type": "markdown",
   "metadata": {},
   "source": [
    "### Tables\n",
    "Tables require an empty line before the first row if there is some text above in the same cell,\n",
    "otherwise they are not interpreted correctly and things get messy:\n",
    "\n",
    "    #: Right:\n",
    "    #:\n",
    "    #: | A | B | C |\n",
    "    #: |:--|:-:|--:|\n",
    "    #: | 1 | 2 | 3 |\n",
    "\n",
    "    #: Wrong:\n",
    "    #: | A | B | C |\n",
    "    #: |:--|:-:|--:|\n",
    "    #: | 1 | 2 | 3 |\n"
   ]
  },
  {
   "cell_type": "markdown",
   "metadata": {},
   "source": [
    "### Monospace blocks\n",
    "As with tables, the multiline code blocks require nothing or an empty line right above,\n",
    "otherwise they will be treated as inline ones.\n",
    "\n",
    "    #: Right:\n",
    "    #:\n",
    "    #:     Line one\n",
    "    #:     Line two\n",
    "    #:     Line three\n",
    "\n",
    "    #: Wrong:\n",
    "    #:     Line one\n",
    "    #:     Line two\n",
    "    #:     Line three\n"
   ]
  },
  {
   "cell_type": "markdown",
   "metadata": {},
   "source": [
    "### TODO: This section should be expanded.\n"
   ]
  },
  {
   "cell_type": "markdown",
   "metadata": {},
   "source": [
    "## Evaluation\n",
    "### The basics\n",
    "Code cells are evaluated one-by-one in a sequential order.\n",
    "Output of every executed code cell gets printed right after the cell itself.\n"
   ]
  },
  {
   "cell_type": "markdown",
   "metadata": {},
   "source": [
    "### Exception handling\n",
    "If an exception occurs during the execution of a cell, the traceback is printed to its `stderr` output, and the execution is aborted.\n",
    "No subsequent cells get evaluated after that.\n"
   ]
  },
  {
   "cell_type": "code",
   "execution_count": 1,
   "metadata": {},
   "outputs": [
    {
     "name": "stderr",
     "output_type": "stream",
     "text": [
      "Traceback (most recent call last):\n",
      "  File \"<cell>\", line 1, in <module>\n",
      "Exception: This is the end\n"
     ]
    }
   ],
   "source": [
    "raise Exception('This is the end')\n"
   ]
  },
  {
   "cell_type": "code",
   "execution_count": 0,
   "metadata": {},
   "outputs": [],
   "source": [
    "print('But maybe not? Please...')\n"
   ]
  },
  {
   "cell_type": "markdown",
   "metadata": {},
   "source": [
    "And currently this behaviour cannot be altered.\n"
   ]
  },
  {
   "cell_type": "markdown",
   "metadata": {},
   "source": [
    "The `exit()` calls are treated almost the same way,\n",
    "but instead of traceback the `[Interpreter finished execution with code {code}]` gets printed.\n"
   ]
  }
 ],
 "metadata": {
  "kernelspec": {
   "display_name": "Python 3",
   "language": "python",
   "name": "python3"
  },
  "language_info": {
   "codemirror_mode": {
    "name": "ipython",
    "version": 3
   },
   "file_extension": ".py",
   "mimetype": "text/x-python",
   "name": "python",
   "nbconvert_exporter": "python",
   "pygments_lexer": "ipython3",
   "version": "3.8.2"
  }
 },
 "nbformat": 4,
 "nbformat_minor": 4
}